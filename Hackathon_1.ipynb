{
  "cells": [
    {
      "cell_type": "code",
      "execution_count": 48,
      "metadata": {
        "id": "2qdRCfdI-foD"
      },
      "outputs": [],
      "source": [
        "import numpy as np\n",
        "import cv2\n",
        "import pandas as pd\n",
        "import pytesseract\n",
        "import re\n",
        "import os"
      ]
    },
    {
      "cell_type": "code",
      "execution_count": 49,
      "metadata": {},
      "outputs": [],
      "source": [
        "path = r\"C:\\Users\\Sonia Sharma\\Documents\\GitHub\\Hackathon1\\receipt-template-with-barcode.jpg\""
      ]
    },
    {
      "cell_type": "code",
      "execution_count": 50,
      "metadata": {},
      "outputs": [],
      "source": [
        "type_directory = {\n",
        "    \"Utility Bills\": [\"electricity\", \"water\", \"gas\", \"internet\", \"cable\"],\n",
        "    \"Retail Receipts\": [\"sale\", \"gift\", \"shop\", \"receipt\",\"mart\"],\n",
        "    \"Medical Bills\": [\"hospital\", \"pharmacy\"],\n",
        "    \"Dining and Hospitality Bills\": [\"restaurant\", \"hotel\"],\n",
        "    \"Transportation and Travel Receipts\": [\"uber\", \"ola\", \"ride\", \"airline\", \"parking\"]\n",
        "}\n"
      ]
    },
    {
      "cell_type": "code",
      "execution_count": 51,
      "metadata": {
        "id": "gQPGBpdEABhy"
      },
      "outputs": [],
      "source": [
        "def extract_text(image_path):\n",
        "    # Load image using OpenCV\n",
        "    image = cv2.imread(image_path)\n",
        "    if image is None:\n",
        "        raise ValueError(\"Image not found or could not be loaded.\")\n",
        "    image_rgb = cv2.cvtColor(image, cv2.COLOR_BGR2RGB)\n",
        "    text = pytesseract.image_to_string(image_rgb)\n",
        "    return text\n"
      ]
    },
    {
      "cell_type": "code",
      "execution_count": 52,
      "metadata": {},
      "outputs": [],
      "source": [
        "def business_classifier(text):\n",
        "    if text is None:\n",
        "        print(\"No text extracted from image.\")\n",
        "        return\n",
        "    lines = text.split('\\n')\n",
        "    fline = lines[0].lower()\n",
        "    for category, keywords in type_directory.items():\n",
        "        if any(keyword in fline for keyword in keywords):\n",
        "            return(category)\n",
        "    return(\"Unknown category\")"
      ]
    },
    {
      "cell_type": "code",
      "execution_count": 53,
      "metadata": {},
      "outputs": [
        {
          "data": {
            "text/plain": [
              "'Retail Receipts'"
            ]
          },
          "execution_count": 53,
          "metadata": {},
          "output_type": "execute_result"
        }
      ],
      "source": [
        "business_classifier(extract_text(path))"
      ]
    },
    {
      "cell_type": "code",
      "execution_count": 54,
      "metadata": {},
      "outputs": [],
      "source": [
        "def total(text):\n",
        "    total_value = 0\n",
        "    lines = text.split('\\n')\n",
        "    for i in lines:\n",
        "        line = i.lower()\n",
        "        if 'total' in line:\n",
        "            pattern = r\"[+-]? *(?:\\$? *(?:\\d{1,3}(?:,\\d{3})*|\\d*)(?:\\.\\d+)?|\\b\\d+(?:\\.\\d+)?\\b)\"\n",
        "            numerical_values = re.findall(pattern, line)\n",
        "            for val in numerical_values:\n",
        "                try:\n",
        "                    total_value += float(val.replace(',', '').replace('$', ''))\n",
        "                except ValueError:\n",
        "                    pass\n",
        "    return '{:,.2f}'.format(total_value)"
      ]
    },
    {
      "cell_type": "code",
      "execution_count": 55,
      "metadata": {},
      "outputs": [
        {
          "data": {
            "text/plain": [
              "'60.00'"
            ]
          },
          "execution_count": 55,
          "metadata": {},
          "output_type": "execute_result"
        }
      ],
      "source": [
        "total(extract_text(path))"
      ]
    },
    {
      "cell_type": "code",
      "execution_count": 56,
      "metadata": {},
      "outputs": [
        {
          "data": {
            "text/plain": [
              "'SHOPS\\n\\nReceipt : 12547865\\nManager : Lor T.\\n\\nAddress: 896 Rigoberto Gardens\\nApt. 838 Kuhnstad, BC X5T5C2\\n\\n02/05/2023 11:58:20 AM\\n\\nLorem ipsum dolor sit\\n\\nAMET Lecce eee eee ee eee $30.00\\nLorem ipsum dolor sit\\nUTE eae sae a asia tae at see wate ws $30.00\\nLorem ipsum dolor sit\\nUTE eae sae a asia tae at see wate ws $30.00\\nTotal ssi awswesme awe swe $60.00\\n\\nXXXX XXXX XXXX 1234 Visa/5544\\n\\niT\\n\\nTHANK YOU FOR SHOPPING!\\n\\nVAN\\n\\n'"
            ]
          },
          "execution_count": 56,
          "metadata": {},
          "output_type": "execute_result"
        }
      ],
      "source": []
    },
    {
      "cell_type": "code",
      "execution_count": null,
      "metadata": {},
      "outputs": [],
      "source": []
    }
  ],
  "metadata": {
    "accelerator": "GPU",
    "colab": {
      "authorship_tag": "ABX9TyOgytsIn/f9BJTQCEGtByel",
      "gpuType": "T4",
      "provenance": []
    },
    "kernelspec": {
      "display_name": "Python 3",
      "name": "python3"
    },
    "language_info": {
      "codemirror_mode": {
        "name": "ipython",
        "version": 3
      },
      "file_extension": ".py",
      "mimetype": "text/x-python",
      "name": "python",
      "nbconvert_exporter": "python",
      "pygments_lexer": "ipython3",
      "version": "3.10.5"
    }
  },
  "nbformat": 4,
  "nbformat_minor": 0
}
